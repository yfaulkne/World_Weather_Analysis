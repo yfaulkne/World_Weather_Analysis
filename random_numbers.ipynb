{
 "cells": [
  {
   "cell_type": "code",
   "execution_count": 2,
   "id": "a7175fcb",
   "metadata": {},
   "outputs": [],
   "source": [
    "#Import the random module\n",
    "\n",
    "import random"
   ]
  },
  {
   "cell_type": "code",
   "execution_count": 3,
   "id": "5ed2a52a",
   "metadata": {},
   "outputs": [
    {
     "data": {
      "text/plain": [
       "-30"
      ]
     },
     "execution_count": 3,
     "metadata": {},
     "output_type": "execute_result"
    }
   ],
   "source": [
    "random.randint(-90, 90)"
   ]
  },
  {
   "cell_type": "code",
   "execution_count": 4,
   "id": "0cc913fb",
   "metadata": {},
   "outputs": [
    {
     "data": {
      "text/plain": [
       "0.37235802570738685"
      ]
     },
     "execution_count": 4,
     "metadata": {},
     "output_type": "execute_result"
    }
   ],
   "source": [
    "random.random()"
   ]
  },
  {
   "cell_type": "code",
   "execution_count": 5,
   "id": "918ddbb5",
   "metadata": {},
   "outputs": [],
   "source": [
    "x = 1\n",
    "latitudes = []\n",
    "while x < 11:\n",
    "    random_lat = random.randint(-90, 89) + random.random()\n",
    "    latitudes.append(random_lat)\n",
    "    x += 1"
   ]
  },
  {
   "cell_type": "code",
   "execution_count": 14,
   "id": "9ac46d41",
   "metadata": {},
   "outputs": [
    {
     "data": {
      "text/plain": [
       "-6"
      ]
     },
     "execution_count": 14,
     "metadata": {},
     "output_type": "execute_result"
    }
   ],
   "source": [
    "random.randrange(-90, 90, step=3)"
   ]
  },
  {
   "cell_type": "code",
   "execution_count": 15,
   "id": "269faeec",
   "metadata": {},
   "outputs": [
    {
     "data": {
      "text/plain": [
       "-71.05249788976387"
      ]
     },
     "execution_count": 15,
     "metadata": {},
     "output_type": "execute_result"
    }
   ],
   "source": [
    "random.uniform(-90, 90)"
   ]
  },
  {
   "cell_type": "code",
   "execution_count": 16,
   "id": "b8176bba",
   "metadata": {},
   "outputs": [],
   "source": [
    "#Import the NumPy module\n",
    "\n",
    "import numpy as np"
   ]
  },
  {
   "cell_type": "code",
   "execution_count": 18,
   "id": "dfb89449",
   "metadata": {},
   "outputs": [
    {
     "data": {
      "text/plain": [
       "array([-48.13739645, -40.34021079,  29.25219565, -77.94401697,\n",
       "        30.67304699, -52.32462535,  69.37371136, -20.86276762,\n",
       "        19.02009233,  21.33139879,   5.33228107,  15.06192006,\n",
       "       -67.25193793, -43.89844349, -88.91285285, -75.10547735,\n",
       "       -61.30889189,  19.37526306, -17.42096462,  26.26566885,\n",
       "        88.56904205, -62.12171791, -66.7780998 , -57.38273489,\n",
       "       -21.34549383, -61.10987535,  63.84351007,  11.81590882,\n",
       "       -32.95213831,  88.42838184,  38.3791304 ,  27.55804383,\n",
       "       -33.27192666, -29.06723772, -28.43678314,   5.46498498,\n",
       "         3.02047408, -17.19191518,  -9.43595058,  48.65345601,\n",
       "         0.28753901, -71.24727446,  85.22393466, -35.58431649,\n",
       "        72.65411022, -65.31052894, -62.81591872,  67.37911284,\n",
       "        71.73975715,   1.57736552])"
      ]
     },
     "execution_count": 18,
     "metadata": {},
     "output_type": "execute_result"
    }
   ],
   "source": [
    "np.random.uniform(-90.000, 90.000, size=50)"
   ]
  },
  {
   "cell_type": "code",
   "execution_count": 19,
   "id": "1ae63496",
   "metadata": {},
   "outputs": [],
   "source": [
    "#Import timeit\n",
    "\n",
    "import timeit"
   ]
  },
  {
   "cell_type": "code",
   "execution_count": 20,
   "id": "c6e892e7",
   "metadata": {},
   "outputs": [
    {
     "name": "stdout",
     "output_type": "stream",
     "text": [
      "72.4 µs ± 6.33 µs per loop (mean ± std. dev. of 7 runs, 10000 loops each)\n"
     ]
    }
   ],
   "source": [
    "%timeit np.random.uniform(-90.000,90.000, size=1500)"
   ]
  },
  {
   "cell_type": "code",
   "execution_count": null,
   "id": "61ea03be",
   "metadata": {},
   "outputs": [],
   "source": []
  }
 ],
 "metadata": {
  "kernelspec": {
   "display_name": "PythonData",
   "language": "python",
   "name": "pythondata"
  },
  "language_info": {
   "codemirror_mode": {
    "name": "ipython",
    "version": 3
   },
   "file_extension": ".py",
   "mimetype": "text/x-python",
   "name": "python",
   "nbconvert_exporter": "python",
   "pygments_lexer": "ipython3",
   "version": "3.7.11"
  }
 },
 "nbformat": 4,
 "nbformat_minor": 5
}
